{
 "cells": [
  {
   "cell_type": "markdown",
   "metadata": {},
   "source": [
    "## 빅데이터 실습\n",
    "\n",
    "### 다나와 무선청소기 상품 분석\n",
    "\n",
    "#### 데이터 수집\n",
    "\n",
    "##### 셀레니움 사용\n",
    "- 무선청소기 검색에 사용할 URL\n",
    "    'https://search.danawa.com/dsearch.php?query=무선청소기&originalQuery=무선청소기&previousKeyword=무선청소기&checkedInfo=N&volumeType=allvs&page=1&limit=120&sort=saveDESC&list=list&boost=true&tab=goods&addDelivery=N&coupangMemberSort=N&mode=simple&isInitTireSmartFinder=N&recommendedSort=N&defaultUICategoryCode=10325109&defaultPhysicsCategoryCode=72%7C80%7C81%7C0&defaultVmTab=3138&defaultVaTab=1098867&isZeroPrice=Y&quickProductYN=N&priceUnitSort=N&priceUnitSortOrder=A'\n"
   ]
  },
  {
   "cell_type": "code",
   "execution_count": 25,
   "metadata": {},
   "outputs": [],
   "source": [
    "# 필요 라이브러리 등록\n",
    "from selenium import webdriver\n",
    "from bs4 import BeautifulSoup\n",
    "import pandas as pd\n",
    "from urllib import parse  # url encode\n",
    "from tqdm import tqdm\n",
    "\n",
    "import time"
   ]
  },
  {
   "cell_type": "code",
   "execution_count": 26,
   "metadata": {},
   "outputs": [],
   "source": [
    "## 웹드라이버로 크롬 오픈\n",
    "\n",
    "url = r'https://search.danawa.com/dsearch.php?query=무선청소기&page=1&limit=120&sort=saveDESC'\n",
    "\n",
    "driver = webdriver.Chrome()\n",
    "driver.get(url)\n",
    "\n",
    "time.sleep(2.0)"
   ]
  },
  {
   "cell_type": "code",
   "execution_count": 27,
   "metadata": {},
   "outputs": [],
   "source": [
    "html = driver.page_source\n",
    "soup = BeautifulSoup(html, 'html.parser')"
   ]
  },
  {
   "cell_type": "code",
   "execution_count": 28,
   "metadata": {},
   "outputs": [],
   "source": [
    "prodItems = soup.select('ul.product_list > li.prod_item')"
   ]
  },
  {
   "cell_type": "code",
   "execution_count": 29,
   "metadata": {},
   "outputs": [
    {
     "data": {
      "text/plain": [
       "'LG전자 오브제컬렉션 코드제로 A9S AX9884'"
      ]
     },
     "execution_count": 29,
     "metadata": {},
     "output_type": "execute_result"
    }
   ],
   "source": [
    "# id = \"productItem19965230\" 식으로 전개되므로 productItem이 아니면 패스\n",
    "# 상품명 가져오기, 만약 애드스마트 영역(HTML)이면 예외발생\n",
    "prodItems[0].select('p.prod_name > a')[0].text"
   ]
  },
  {
   "cell_type": "code",
   "execution_count": 30,
   "metadata": {},
   "outputs": [
    {
     "data": {
      "text/plain": [
       "'핸디스틱청소기 ,무선 ,흡입+물걸레(동시) ,흡입력: 250W ,소비전력: 620W ,2023년형 ,[구성] 거치대: 올인원타워 ,먼지비움 ,충전 ,UVC LED ,액서서리수납 ,스탠드거치 ,먼지비움시간: 30초 ,브러쉬: 와이드바닥 ,물걸레: 스팀, 고온, 일반 ,솔형 ,틈새 ,먼지봉투: 2.5L ,[배터리] 사용시간: 30분(최대) ,충전시간: 4시간 ,분리형(2개) ,리튬이온 ,25.2V ,[청소] 싸이클론흡입 ,LED라이트 ,자동물공급 ,스마트인버터모터 ,[부가] 스마트폰제어 ,대화형알림창 ,워셔블헤파필터 ,5단계여과 ,색상: 카밍베이지 ,무게: 2.47kg ,크기(가로x세로x깊이): 300x1120x245mm'"
      ]
     },
     "execution_count": 30,
     "metadata": {},
     "output_type": "execute_result"
    }
   ],
   "source": [
    "# 상품 스펙 목록 가져오기\n",
    "prodItems[0].select('div.spec_list')[0].text.strip().replace('\\t', '').replace(' / ', ' ,')"
   ]
  },
  {
   "cell_type": "code",
   "execution_count": 31,
   "metadata": {},
   "outputs": [
    {
     "data": {
      "text/plain": [
       "'873560'"
      ]
     },
     "execution_count": 31,
     "metadata": {},
     "output_type": "execute_result"
    }
   ],
   "source": [
    "# 상품 가격 가져오기\n",
    "# input 중 두번째 값이 최소값을 담고 있는 것을 확인\n",
    "prodItems[0].select('input')[1].get('value')"
   ]
  },
  {
   "cell_type": "code",
   "execution_count": 32,
   "metadata": {},
   "outputs": [
    {
     "data": {
      "text/plain": [
       "'가장 프리미엄 라인업(AX)으로 스팀물걸레 포함 구성, AX9988보다 흡입력만 낮음'"
      ]
     },
     "execution_count": 32,
     "metadata": {},
     "output_type": "execute_result"
    }
   ],
   "source": [
    "# 상품 인트로 가져오기\n",
    "prodItems[0].select('p.intro_text')[0].text"
   ]
  },
  {
   "cell_type": "markdown",
   "metadata": {},
   "source": [
    "#### 1번 페이지에서 상품 정보 추출"
   ]
  },
  {
   "cell_type": "code",
   "execution_count": 33,
   "metadata": {},
   "outputs": [],
   "source": [
    "prodData = []\n",
    "loop = 0\n",
    "for prodItem in prodItems:\n",
    "    try:\n",
    "        prodName = prodItem.select('p.prod_name > a')[0].text.strip()\n",
    "        specList = prodItem.select('div.spec_list')[0].text.strip().replace('\\t', '')\n",
    "        price = prodItem.select('input')[1].get('value')\n",
    "        loop += 1\n",
    "        prodData.append([prodName, specList, price])\n",
    "    except:\n",
    "        pass"
   ]
  },
  {
   "cell_type": "code",
   "execution_count": 34,
   "metadata": {},
   "outputs": [
    {
     "data": {
      "text/plain": [
       "120"
      ]
     },
     "execution_count": 34,
     "metadata": {},
     "output_type": "execute_result"
    }
   ],
   "source": [
    "# 결과 확인\n",
    "len(prodData)"
   ]
  },
  {
   "cell_type": "markdown",
   "metadata": {},
   "source": [
    "##### 여러페이지 크롤링 하는 방법"
   ]
  },
  {
   "cell_type": "code",
   "execution_count": 35,
   "metadata": {},
   "outputs": [],
   "source": [
    "# 검색어, 페이지를 변경하면서 URL 생성함수\n",
    "def getSearchPageUrl(keyword, page):\n",
    "    encodekeyword = parse.quote(keyword)\n",
    "    url = f'https://search.danawa.com/dsearch.php?query={encodekeyword}&originalQuery={encodekeyword}&previousKeyword={encodekeyword}&checkedInfo=N&volumeType=allvs&page={page}&limit=120&sort=saveDESC&list=list&boost=true&tab=goods&addDelivery=N&coupangMemberSort=N&mode=simple&isInitTireSmartFinder=N&recommendedSort=N&defaultUICategoryCode=10325109&defaultPhysicsCategoryCode=72%7C80%7C81%7C0&defaultVmTab=3138&defaultVaTab=1098867&isZeroPrice=Y&quickProductYN=N&priceUnitSort=N&priceUnitSortOrder=A'\n",
    "    return url"
   ]
  },
  {
   "cell_type": "code",
   "execution_count": 36,
   "metadata": {},
   "outputs": [],
   "source": [
    "# 상품정보 추출하는 함수\n",
    "def getProdItems(prodItems):\n",
    "    prodData = []\n",
    "    loop = 0\n",
    "    for prodItem in prodItems:\n",
    "        try:\n",
    "            prodName = prodItem.select('p.prod_name > a')[0].text.strip()\n",
    "            specList = prodItem.select('div.spec_list')[0].text.strip().replace('\\t', '')\n",
    "            price = prodItem.select('input')[1].get('value')\n",
    "            loop += 1\n",
    "            prodData.append([prodName, specList, price])\n",
    "        except:\n",
    "            pass\n",
    "    \n",
    "    return prodData"
   ]
  },
  {
   "cell_type": "code",
   "execution_count": 37,
   "metadata": {},
   "outputs": [
    {
     "data": {
      "text/plain": [
       "'https://search.danawa.com/dsearch.php?query=%EB%A7%88%EC%9D%B4%ED%81%AC%EB%A1%9C%20sd%EC%B9%B4%EB%93%9C&originalQuery=%EB%A7%88%EC%9D%B4%ED%81%AC%EB%A1%9C%20sd%EC%B9%B4%EB%93%9C&previousKeyword=%EB%A7%88%EC%9D%B4%ED%81%AC%EB%A1%9C%20sd%EC%B9%B4%EB%93%9C&checkedInfo=N&volumeType=allvs&page=5&limit=120&sort=saveDESC&list=list&boost=true&tab=goods&addDelivery=N&coupangMemberSort=N&mode=simple&isInitTireSmartFinder=N&recommendedSort=N&defaultUICategoryCode=10325109&defaultPhysicsCategoryCode=72%7C80%7C81%7C0&defaultVmTab=3138&defaultVaTab=1098867&isZeroPrice=Y&quickProductYN=N&priceUnitSort=N&priceUnitSortOrder=A'"
      ]
     },
     "execution_count": 37,
     "metadata": {},
     "output_type": "execute_result"
    }
   ],
   "source": [
    "# 검색어에 ' '(공백)이 있으면 URL에서 링크 클릭이 안되는 문제(VSCode 기준) -> urlEncode : parse.quoto(keyword)\n",
    "getSearchPageUrl('마이크로 sd카드', 5)"
   ]
  },
  {
   "cell_type": "code",
   "execution_count": 38,
   "metadata": {},
   "outputs": [
    {
     "name": "stderr",
     "output_type": "stream",
     "text": [
      "100%|██████████| 10/10 [01:37<00:00,  9.74s/it]\n"
     ]
    }
   ],
   "source": [
    "# 여러페이지 검색 후 크롤링하는 작업\n",
    "driver = webdriver.Chrome()\n",
    "# 암묵적으로 웹 자원 로드를 위해 3초정도 대기\n",
    "driver.implicitly_wait(3.0)\n",
    "\n",
    "keyword = '무선청소기'\n",
    "totalPage = 10\n",
    "prodDataTotal = []\n",
    "\n",
    "for page in tqdm(range(1, totalPage+1)):\n",
    "    url = getSearchPageUrl(keyword, page)\n",
    "    driver.get(url)\n",
    "    time.sleep(5)\n",
    "    \n",
    "    # 현재 페이지 HTML 가져오기\n",
    "    html = driver.page_source\n",
    "    soup = BeautifulSoup(html, 'html.parser')\n",
    "    \n",
    "    # 상품정보 추출\n",
    "    prodItems = soup.select('ul.product_list > li.prod_item')\n",
    "    prodItemList = getProdItems(prodItems)\n",
    "    \n",
    "    # 추출된 정보를 prodDataTotal 추가\n",
    "    prodDataTotal += prodItemList"
   ]
  },
  {
   "cell_type": "code",
   "execution_count": 39,
   "metadata": {},
   "outputs": [],
   "source": [
    "dfProdData = pd.DataFrame(prodDataTotal)"
   ]
  },
  {
   "cell_type": "code",
   "execution_count": 40,
   "metadata": {},
   "outputs": [],
   "source": [
    "dfProdData.columns = [['상품명', '스펙정보', '가격']]"
   ]
  },
  {
   "cell_type": "code",
   "execution_count": 41,
   "metadata": {},
   "outputs": [
    {
     "data": {
      "text/html": [
       "<div>\n",
       "<style scoped>\n",
       "    .dataframe tbody tr th:only-of-type {\n",
       "        vertical-align: middle;\n",
       "    }\n",
       "\n",
       "    .dataframe tbody tr th {\n",
       "        vertical-align: top;\n",
       "    }\n",
       "\n",
       "    .dataframe thead tr th {\n",
       "        text-align: left;\n",
       "    }\n",
       "</style>\n",
       "<table border=\"1\" class=\"dataframe\">\n",
       "  <thead>\n",
       "    <tr>\n",
       "      <th></th>\n",
       "      <th>상품명</th>\n",
       "      <th>스펙정보</th>\n",
       "      <th>가격</th>\n",
       "    </tr>\n",
       "  </thead>\n",
       "  <tbody>\n",
       "    <tr>\n",
       "      <th>0</th>\n",
       "      <td>LG전자 오브제컬렉션 코드제로 A9S AX9884</td>\n",
       "      <td>핸디스틱청소기 / 무선 / 흡입+물걸레(동시) / 흡입력: 250W / 소비전력: ...</td>\n",
       "      <td>873560</td>\n",
       "    </tr>\n",
       "    <tr>\n",
       "      <th>1</th>\n",
       "      <td>삼성전자 비스포크 제트 VS20B956AX</td>\n",
       "      <td>핸디스틱청소기 / 무선 / 흡입형 / 흡입력: 220W / 2022년형 / [구성]...</td>\n",
       "      <td>446320</td>\n",
       "    </tr>\n",
       "    <tr>\n",
       "      <th>2</th>\n",
       "      <td>샤오미 미홀 M22</td>\n",
       "      <td>핸디스틱청소기 / 무선 / 흡입형 / 소비전력: 320W / 2023년형 / [구성...</td>\n",
       "      <td>151050</td>\n",
       "    </tr>\n",
       "    <tr>\n",
       "      <th>3</th>\n",
       "      <td>LG전자 오브제컬렉션 코드제로 A9S AX9604</td>\n",
       "      <td>핸디스틱청소기 / 무선 / 흡입형 / 흡입력: 250W / 소비전력: 620W / ...</td>\n",
       "      <td>715570</td>\n",
       "    </tr>\n",
       "    <tr>\n",
       "      <th>4</th>\n",
       "      <td>LG전자 오브제컬렉션 코드제로 A9S AX9988</td>\n",
       "      <td>핸디스틱청소기 / 무선 / 흡입+물걸레(동시) / 흡입력: 280W / 소비전력: ...</td>\n",
       "      <td>1229240</td>\n",
       "    </tr>\n",
       "    <tr>\n",
       "      <th>...</th>\n",
       "      <td>...</td>\n",
       "      <td>...</td>\n",
       "      <td>...</td>\n",
       "    </tr>\n",
       "    <tr>\n",
       "      <th>1195</th>\n",
       "      <td>포엔코 PC-OP01</td>\n",
       "      <td>욕실청소기 / 무선 / 전동회전 / [배터리] 충전시간: 1시간 / 리튬이온 / 1...</td>\n",
       "      <td>43530</td>\n",
       "    </tr>\n",
       "    <tr>\n",
       "      <th>1196</th>\n",
       "      <td>앱코 오엘라 네오스핀 OBC-AW09 + OST-AWUVCGY</td>\n",
       "      <td>욕실청소기 / 무선 / 전동회전 / 회전속도: 220RPM / 소비전력: 8W / ...</td>\n",
       "      <td>84900</td>\n",
       "    </tr>\n",
       "    <tr>\n",
       "      <th>1197</th>\n",
       "      <td>삼성전자 제트 VS20T9257SECS</td>\n",
       "      <td>핸디스틱청소기 / 무선 / 흡입+물걸레(교체) / 흡입력: 200W / 소비전력: ...</td>\n",
       "      <td>1384300</td>\n",
       "    </tr>\n",
       "    <tr>\n",
       "      <th>1198</th>\n",
       "      <td>삼성전자 제트 VS20T9257SDCS</td>\n",
       "      <td>핸디스틱청소기 / 무선 / 흡입+물걸레(교체) / 흡입력: 200W / 소비전력: ...</td>\n",
       "      <td>1168880</td>\n",
       "    </tr>\n",
       "    <tr>\n",
       "      <th>1199</th>\n",
       "      <td>삼성전자 제트 VS20T9259SECS</td>\n",
       "      <td>핸디스틱청소기 / 무선 / 흡입+물걸레(교체) / 흡입력: 200W / 소비전력: ...</td>\n",
       "      <td>1879530</td>\n",
       "    </tr>\n",
       "  </tbody>\n",
       "</table>\n",
       "<p>1200 rows × 3 columns</p>\n",
       "</div>"
      ],
      "text/plain": [
       "                                     상품명  \\\n",
       "0            LG전자 오브제컬렉션 코드제로 A9S AX9884   \n",
       "1                삼성전자 비스포크 제트 VS20B956AX   \n",
       "2                             샤오미 미홀 M22   \n",
       "3            LG전자 오브제컬렉션 코드제로 A9S AX9604   \n",
       "4            LG전자 오브제컬렉션 코드제로 A9S AX9988   \n",
       "...                                  ...   \n",
       "1195                         포엔코 PC-OP01   \n",
       "1196  앱코 오엘라 네오스핀 OBC-AW09 + OST-AWUVCGY   \n",
       "1197               삼성전자 제트 VS20T9257SECS   \n",
       "1198               삼성전자 제트 VS20T9257SDCS   \n",
       "1199               삼성전자 제트 VS20T9259SECS   \n",
       "\n",
       "                                                   스펙정보       가격  \n",
       "0     핸디스틱청소기 / 무선 / 흡입+물걸레(동시) / 흡입력: 250W / 소비전력: ...   873560  \n",
       "1     핸디스틱청소기 / 무선 / 흡입형 / 흡입력: 220W / 2022년형 / [구성]...   446320  \n",
       "2     핸디스틱청소기 / 무선 / 흡입형 / 소비전력: 320W / 2023년형 / [구성...   151050  \n",
       "3     핸디스틱청소기 / 무선 / 흡입형 / 흡입력: 250W / 소비전력: 620W / ...   715570  \n",
       "4     핸디스틱청소기 / 무선 / 흡입+물걸레(동시) / 흡입력: 280W / 소비전력: ...  1229240  \n",
       "...                                                 ...      ...  \n",
       "1195  욕실청소기 / 무선 / 전동회전 / [배터리] 충전시간: 1시간 / 리튬이온 / 1...    43530  \n",
       "1196  욕실청소기 / 무선 / 전동회전 / 회전속도: 220RPM / 소비전력: 8W / ...    84900  \n",
       "1197  핸디스틱청소기 / 무선 / 흡입+물걸레(교체) / 흡입력: 200W / 소비전력: ...  1384300  \n",
       "1198  핸디스틱청소기 / 무선 / 흡입+물걸레(교체) / 흡입력: 200W / 소비전력: ...  1168880  \n",
       "1199  핸디스틱청소기 / 무선 / 흡입+물걸레(교체) / 흡입력: 200W / 소비전력: ...  1879530  \n",
       "\n",
       "[1200 rows x 3 columns]"
      ]
     },
     "execution_count": 41,
     "metadata": {},
     "output_type": "execute_result"
    }
   ],
   "source": [
    "dfProdData"
   ]
  },
  {
   "cell_type": "code",
   "execution_count": 42,
   "metadata": {},
   "outputs": [
    {
     "data": {
      "text/html": [
       "<div>\n",
       "<style scoped>\n",
       "    .dataframe tbody tr th:only-of-type {\n",
       "        vertical-align: middle;\n",
       "    }\n",
       "\n",
       "    .dataframe tbody tr th {\n",
       "        vertical-align: top;\n",
       "    }\n",
       "\n",
       "    .dataframe thead tr th {\n",
       "        text-align: left;\n",
       "    }\n",
       "</style>\n",
       "<table border=\"1\" class=\"dataframe\">\n",
       "  <thead>\n",
       "    <tr>\n",
       "      <th></th>\n",
       "      <th>상품명</th>\n",
       "      <th>스펙정보</th>\n",
       "      <th>가격</th>\n",
       "    </tr>\n",
       "  </thead>\n",
       "  <tbody>\n",
       "    <tr>\n",
       "      <th>1195</th>\n",
       "      <td>포엔코 PC-OP01</td>\n",
       "      <td>욕실청소기 / 무선 / 전동회전 / [배터리] 충전시간: 1시간 / 리튬이온 / 1...</td>\n",
       "      <td>43530</td>\n",
       "    </tr>\n",
       "    <tr>\n",
       "      <th>1196</th>\n",
       "      <td>앱코 오엘라 네오스핀 OBC-AW09 + OST-AWUVCGY</td>\n",
       "      <td>욕실청소기 / 무선 / 전동회전 / 회전속도: 220RPM / 소비전력: 8W / ...</td>\n",
       "      <td>84900</td>\n",
       "    </tr>\n",
       "    <tr>\n",
       "      <th>1197</th>\n",
       "      <td>삼성전자 제트 VS20T9257SECS</td>\n",
       "      <td>핸디스틱청소기 / 무선 / 흡입+물걸레(교체) / 흡입력: 200W / 소비전력: ...</td>\n",
       "      <td>1384300</td>\n",
       "    </tr>\n",
       "    <tr>\n",
       "      <th>1198</th>\n",
       "      <td>삼성전자 제트 VS20T9257SDCS</td>\n",
       "      <td>핸디스틱청소기 / 무선 / 흡입+물걸레(교체) / 흡입력: 200W / 소비전력: ...</td>\n",
       "      <td>1168880</td>\n",
       "    </tr>\n",
       "    <tr>\n",
       "      <th>1199</th>\n",
       "      <td>삼성전자 제트 VS20T9259SECS</td>\n",
       "      <td>핸디스틱청소기 / 무선 / 흡입+물걸레(교체) / 흡입력: 200W / 소비전력: ...</td>\n",
       "      <td>1879530</td>\n",
       "    </tr>\n",
       "  </tbody>\n",
       "</table>\n",
       "</div>"
      ],
      "text/plain": [
       "                                     상품명  \\\n",
       "1195                         포엔코 PC-OP01   \n",
       "1196  앱코 오엘라 네오스핀 OBC-AW09 + OST-AWUVCGY   \n",
       "1197               삼성전자 제트 VS20T9257SECS   \n",
       "1198               삼성전자 제트 VS20T9257SDCS   \n",
       "1199               삼성전자 제트 VS20T9259SECS   \n",
       "\n",
       "                                                   스펙정보       가격  \n",
       "1195  욕실청소기 / 무선 / 전동회전 / [배터리] 충전시간: 1시간 / 리튬이온 / 1...    43530  \n",
       "1196  욕실청소기 / 무선 / 전동회전 / 회전속도: 220RPM / 소비전력: 8W / ...    84900  \n",
       "1197  핸디스틱청소기 / 무선 / 흡입+물걸레(교체) / 흡입력: 200W / 소비전력: ...  1384300  \n",
       "1198  핸디스틱청소기 / 무선 / 흡입+물걸레(교체) / 흡입력: 200W / 소비전력: ...  1168880  \n",
       "1199  핸디스틱청소기 / 무선 / 흡입+물걸레(교체) / 흡입력: 200W / 소비전력: ...  1879530  "
      ]
     },
     "execution_count": 42,
     "metadata": {},
     "output_type": "execute_result"
    }
   ],
   "source": [
    "dfProdData.tail()"
   ]
  },
  {
   "cell_type": "code",
   "execution_count": 43,
   "metadata": {},
   "outputs": [],
   "source": [
    "dfProdData.to_excel('./data/무선청소기_인기상품_분석결과.xlsx', index=False)"
   ]
  }
 ],
 "metadata": {
  "kernelspec": {
   "display_name": "Python 3",
   "language": "python",
   "name": "python3"
  },
  "language_info": {
   "codemirror_mode": {
    "name": "ipython",
    "version": 3
   },
   "file_extension": ".py",
   "mimetype": "text/x-python",
   "name": "python",
   "nbconvert_exporter": "python",
   "pygments_lexer": "ipython3",
   "version": "3.12.2"
  }
 },
 "nbformat": 4,
 "nbformat_minor": 2
}
