{
 "cells": [
  {
   "cell_type": "code",
   "execution_count": null,
   "metadata": {},
   "outputs": [],
   "source": [
    "import pandas as pd"
   ]
  },
  {
   "cell_type": "code",
   "execution_count": null,
   "metadata": {},
   "outputs": [],
   "source": [
    "df_leftOne = pd.read_excel('../day01/data/sample_1.xlsx', header=1, skipfooter=2, usecols='A:D')\n",
    "df_rightOne = pd.read_excel('../day01/data/sample_1.xlsx', header=1, skipfooter=2, usecols='A:D')"
   ]
  },
  {
   "cell_type": "code",
   "execution_count": null,
   "metadata": {},
   "outputs": [],
   "source": [
    "## 병합\n",
    "df_totalOne = pd.merge(left=df_leftOne, right=df_rightOne, \n",
    "                     how= 'left', left_on='국적코드', right_on='국적코드')"
   ]
  },
  {
   "cell_type": "code",
   "execution_count": null,
   "metadata": {},
   "outputs": [],
   "source": [
    "df_leftTwo = pd.read_excel('./data/sample_2.xlsx', header=1, skipfooter=2, usecols='A:D')\n",
    "df_rightTwo = pd.read_excel('./data/sample_2.xlsx', header=1, skipfooter=2, usecols='A:D')"
   ]
  },
  {
   "cell_type": "code",
   "execution_count": null,
   "metadata": {},
   "outputs": [],
   "source": [
    "## df_left2를 가지고 dt_total2를 만듬, 국정명을 재대로 받기 위해\n",
    "df_totalTwo = pd.merge(left=df_leftTwo, right=df_rightTwo, \n",
    "                     how= 'left', left_on='국적코드', right_on='국적코드')"
   ]
  },
  {
   "cell_type": "code",
   "execution_count": null,
   "metadata": {},
   "outputs": [],
   "source": [
    "# ignore_index는 DF의 자체 인덱스를 무시하고 새로 인덱스를 생성\n",
    "df_all = pd.concat([df_totalOne, df_totalTwo], ignore_index=True)"
   ]
  },
  {
   "cell_type": "code",
   "execution_count": null,
   "metadata": {},
   "outputs": [],
   "source": [
    "## DF 저장 pd.to_...\n",
    "# index=False >> DF가 만드는 임의의 index는 생성X\n",
    "df_all.to_excel('./data/df_all.xlsx', index=False)"
   ]
  },
  {
   "cell_type": "code",
   "execution_count": null,
   "metadata": {},
   "outputs": [],
   "source": [
    "## 기준년월\n",
    "df_totalOne['기준년월'] = '2019-11'\n",
    "df_totalOne"
   ]
  },
  {
   "cell_type": "code",
   "execution_count": null,
   "metadata": {},
   "outputs": [],
   "source": [
    "df_totalTwo['기준년월'] = '2019-12'\n",
    "df_totalTwo"
   ]
  },
  {
   "cell_type": "code",
   "execution_count": null,
   "metadata": {},
   "outputs": [],
   "source": [
    "df_all = pd.concat([df_totalOne, df_totalTwo], ignore_index=True)\n",
    "df_all"
   ]
  },
  {
   "cell_type": "markdown",
   "metadata": {},
   "source": [
    "#### Pivot 테이블\n",
    "통계를 내면서 테이블을 세로로 된 DF를 가로로 바꿔주는 기능\n",
    "DB에서 바로 피벗작업이 꽤 힘듦 >> 파이썬에서 피벗이 훨씬 쉬움"
   ]
  },
  {
   "cell_type": "code",
   "execution_count": null,
   "metadata": {},
   "outputs": [],
   "source": [
    "## aggfunc >> sum(총합), mean(평균), min(최소), max(최대), median(중앙값), count(갯수), nunique(중복제거개수)\n",
    "df_all.pivot_table(values='입국객수', index='국적코드', columns='기준년월', aggfunc='mean')"
   ]
  }
 ],
 "metadata": {
  "kernelspec": {
   "display_name": "Python 3",
   "language": "python",
   "name": "python3"
  },
  "language_info": {
   "codemirror_mode": {
    "name": "ipython",
    "version": 3
   },
   "file_extension": ".py",
   "mimetype": "text/x-python",
   "name": "python",
   "nbconvert_exporter": "python",
   "pygments_lexer": "ipython3",
   "version": "3.12.2"
  }
 },
 "nbformat": 4,
 "nbformat_minor": 2
}
