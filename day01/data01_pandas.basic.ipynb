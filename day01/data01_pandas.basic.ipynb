{
 "cells": [
  {
   "cell_type": "markdown",
   "metadata": {},
   "source": [
    "## Pandas 학습\n",
    "\n",
    "### 라이브러리 추가\n",
    "\n",
    "```python\n",
    "!pip3 install pandas\n",
    "\n",
    "```\n",
    "- Successfully installed... >> 최초 설치\n",
    "- Requirement already stisfied... >> 이미 설치"
   ]
  },
  {
   "cell_type": "code",
   "execution_count": null,
   "metadata": {},
   "outputs": [],
   "source": [
    "!pip3 install pandas"
   ]
  },
  {
   "cell_type": "markdown",
   "metadata": {},
   "source": [
    "### 판다스 라이브러리 로딩\n",
    "```python\n",
    "import pandas as pd # as pd로 줄임\n",
    "```"
   ]
  },
  {
   "cell_type": "code",
   "execution_count": null,
   "metadata": {},
   "outputs": [],
   "source": [
    "import pandas as pd"
   ]
  },
  {
   "cell_type": "markdown",
   "metadata": {},
   "source": [
    "### Pandas 기본 학습\n",
    "#### DataFrame 객체\n",
    "- 파이썬 2차원 리스트(배열)와 동일\n",
    "- 행(row)의 각 하나의 유니크 데이터 묶음\n",
    "- 열(column)의 유니크 데이터의 하나하나 특성"
   ]
  },
  {
   "cell_type": "code",
   "execution_count": null,
   "metadata": {},
   "outputs": [],
   "source": [
    "## 2차원 리스트 생성\n",
    "data = [['messi', 10, 'messi@naver.com', True], ['ronaldo', 7, 'ronaldo@naver.com', True],\n",
    "        ['roony', 10, 'roony@naver.com', True],['beckem', 7, \"beckem@naver.com\", True]]\n",
    "\n",
    "data"
   ]
  },
  {
   "cell_type": "code",
   "execution_count": null,
   "metadata": {},
   "outputs": [],
   "source": [
    "## 2차원 리스트로 DataFrame 객체 생성\n",
    "df = pd.DataFrame(data=data, columns=['이름','등번호','이메일','결혼'])\n",
    "df"
   ]
  },
  {
   "cell_type": "code",
   "execution_count": null,
   "metadata": {},
   "outputs": [],
   "source": [
    "## 딕셔너리로 DataFrame 객체 생성\n",
    "data = {'이름' : ['messi', 'ronaldo', 'roony', 'beckem'],'등번호' : [10, 7, 10, 7], \n",
    "        '이메일' :['messi@naver.com','ronaldo@nate.com','roony@naver.com',\"beckem@naver.com\"],\n",
    "        '결혼': [True, True, True, True]}\n",
    "df = pd.DataFrame(data=data)\n",
    "df"
   ]
  },
  {
   "cell_type": "code",
   "execution_count": null,
   "metadata": {},
   "outputs": [],
   "source": [
    "## DataFrame에서 데이터 조회(열) >> 리스트는 for문을 써야 출력가능\n",
    "df['이름']"
   ]
  },
  {
   "cell_type": "code",
   "execution_count": null,
   "metadata": {},
   "outputs": [],
   "source": [
    "## DataFrame 조회\n",
    "df[['이름', '등번호']]"
   ]
  },
  {
   "cell_type": "code",
   "execution_count": null,
   "metadata": {},
   "outputs": [],
   "source": [
    "## DataFrame 행으로 조회\n",
    "df.loc[0]"
   ]
  },
  {
   "cell_type": "code",
   "execution_count": null,
   "metadata": {},
   "outputs": [],
   "source": [
    "## DataFrame 조회 (행)\n",
    "df.loc[[0, 1, 3]]"
   ]
  },
  {
   "cell_type": "code",
   "execution_count": null,
   "metadata": {},
   "outputs": [],
   "source": [
    "# 현재 DataFrame 확인\n",
    "df"
   ]
  },
  {
   "cell_type": "code",
   "execution_count": null,
   "metadata": {},
   "outputs": [],
   "source": [
    "## 새 컬럼 추가\n",
    "df['전번'] = ['010', '011', '017', '019']"
   ]
  },
  {
   "cell_type": "code",
   "execution_count": null,
   "metadata": {},
   "outputs": [],
   "source": [
    "# 추가된 DataFrame 확인\n",
    "df"
   ]
  },
  {
   "cell_type": "code",
   "execution_count": null,
   "metadata": {},
   "outputs": [],
   "source": [
    "## 열 삭제\n",
    "df.drop('결혼', axis = 1) ## axis = 0 >> 행, axis = 1 >> 열"
   ]
  },
  {
   "cell_type": "code",
   "execution_count": null,
   "metadata": {},
   "outputs": [],
   "source": [
    "## drop()은 열or행을 삭제하고 출력만 함 >> 완전 삭제는 inplace 옵션 사용\n",
    "# inplace >> 화면 출력 안됨 (따로 출력) \n",
    "df.drop('결혼', axis = 1, inplace = True)"
   ]
  },
  {
   "cell_type": "code",
   "execution_count": null,
   "metadata": {},
   "outputs": [],
   "source": [
    "## 삭제 확인\n",
    "df"
   ]
  },
  {
   "cell_type": "code",
   "execution_count": null,
   "metadata": {},
   "outputs": [],
   "source": [
    "## 행 추가\n",
    "df.loc[4] = ['son', 32, 'son@naver.com', '020']"
   ]
  },
  {
   "cell_type": "code",
   "execution_count": null,
   "metadata": {},
   "outputs": [],
   "source": [
    "## 추가 확인\n",
    "df"
   ]
  },
  {
   "cell_type": "code",
   "execution_count": null,
   "metadata": {},
   "outputs": [],
   "source": [
    "## 행 삭제, 완전 삭제는 inplace 사용 아니면 변수에 재할당\n",
    "df2 = df.drop(3)"
   ]
  },
  {
   "cell_type": "code",
   "execution_count": null,
   "metadata": {},
   "outputs": [],
   "source": [
    "## 삭제 확인\n",
    "df2"
   ]
  },
  {
   "cell_type": "code",
   "execution_count": null,
   "metadata": {},
   "outputs": [],
   "source": [
    "## 행삭제 inplace, 행삭제시는 axic = 0 만 사용 또는 생략\n",
    "df.drop(2, axis = 0, inplace = True) "
   ]
  },
  {
   "cell_type": "code",
   "execution_count": null,
   "metadata": {},
   "outputs": [],
   "source": [
    "## 삭제 확인\n",
    "df"
   ]
  },
  {
   "cell_type": "code",
   "execution_count": null,
   "metadata": {},
   "outputs": [],
   "source": [
    "## 열 이름을 변경\n",
    "df.rename(columns={'전번' : '휴대폰'}, inplace=True)"
   ]
  },
  {
   "cell_type": "markdown",
   "metadata": {},
   "source": [
    "- dataFrame은 파이썬의 2차원 리스트와 동일하지만, 좀 더 사용하기 쉽도록 만든 클래스"
   ]
  },
  {
   "cell_type": "markdown",
   "metadata": {},
   "source": [
    "#### 시리즈 객체\n",
    "\n",
    "- 파이썬에서 1차원 리스트(배열)\n",
    "- 시리즈들 그루핑한게 dataFrame\n",
    "- 가장 최소 단위\n"
   ]
  },
  {
   "cell_type": "code",
   "execution_count": null,
   "metadata": {},
   "outputs": [],
   "source": [
    "data = [10, 7, 10, 7, 7]\n",
    "series = pd.Series(data = data)\n",
    "series"
   ]
  },
  {
   "cell_type": "code",
   "execution_count": null,
   "metadata": {},
   "outputs": [],
   "source": [
    "## dataFrame의 한 열을 가지고 온 자료구조와 시리즈는 동일\n",
    "type(df['등번호'])"
   ]
  },
  {
   "cell_type": "code",
   "execution_count": null,
   "metadata": {},
   "outputs": [],
   "source": [
    "type(series)"
   ]
  },
  {
   "cell_type": "code",
   "execution_count": null,
   "metadata": {},
   "outputs": [],
   "source": [
    "series = pd.Series(data=data, index=['messi', 'ronaldo', 'roony', 'beckem', 'son'])\n",
    "series"
   ]
  },
  {
   "cell_type": "code",
   "execution_count": null,
   "metadata": {},
   "outputs": [],
   "source": [
    "## 조회\n",
    "series['messi']"
   ]
  },
  {
   "cell_type": "code",
   "execution_count": null,
   "metadata": {},
   "outputs": [],
   "source": [
    "# dataFrame에서 한 행을 가져와도 시리즈\n",
    "df.loc[1]"
   ]
  },
  {
   "cell_type": "markdown",
   "metadata": {},
   "source": [
    "#### dataFrame 사용하기\n",
    "\n",
    "- CSV, 엑셀파일 로드\n",
    "- VS Code 플러그인, GrapeCity의 Excel Viewer 설치\n",
    "- 엑셀파일을 로드 할 때는 openpyxl 라이브러리 추가\n",
    "```python\n",
    "> !pip3 install openpyxl\n",
    "```"
   ]
  },
  {
   "cell_type": "code",
   "execution_count": null,
   "metadata": {},
   "outputs": [],
   "source": [
    "df_csv = pd.read_csv('./data/sample_1.csv', encoding='cp949', header=1, skipfooter=2)\n",
    "df_csv\n",
    "# header=1 >> 헤더로 사용할 열 지정\n",
    "# skipfooter=2 >> 뒤에서 n개 행 생략\n",
    "\n",
    "\n",
    "# 'utf-8' codec can't decode byte 0xb3 in position 0: invalid start byte\n",
    "# >> 파이선이 한글을 인식하지 못해서 생기는 오류 >> encoding='cp949' 로 대체 "
   ]
  },
  {
   "cell_type": "code",
   "execution_count": null,
   "metadata": {},
   "outputs": [],
   "source": [
    "# openpyxl 설치\n",
    "!pip3 install openpyxl"
   ]
  },
  {
   "cell_type": "code",
   "execution_count": null,
   "metadata": {},
   "outputs": [],
   "source": [
    "## 엑셀 로드\n",
    "df_xls = pd.read_excel('./data/sample_1.xlsx', header=1, skipfooter=2, usecols='A:C', sheet_name='Sheet1')\n",
    "df_xls\n",
    "\n",
    "# usecols='A:C' >> A ~ C 열만 가져옴\n",
    "# sheet_name='Sheet1' >> 시트 이름 지정\n"
   ]
  },
  {
   "cell_type": "code",
   "execution_count": null,
   "metadata": {},
   "outputs": [],
   "source": [
    "## dataFrame 정보 확인\n",
    "df_csv.info()"
   ]
  }
 ],
 "metadata": {
  "kernelspec": {
   "display_name": "Python 3",
   "language": "python",
   "name": "python3"
  },
  "language_info": {
   "codemirror_mode": {
    "name": "ipython",
    "version": 3
   },
   "file_extension": ".py",
   "mimetype": "text/x-python",
   "name": "python",
   "nbconvert_exporter": "python",
   "pygments_lexer": "ipython3",
   "version": "3.12.2"
  }
 },
 "nbformat": 4,
 "nbformat_minor": 2
}
