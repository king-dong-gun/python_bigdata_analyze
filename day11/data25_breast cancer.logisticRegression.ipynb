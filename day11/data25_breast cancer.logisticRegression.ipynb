{
 "cells": [
  {
   "cell_type": "markdown",
   "metadata": {},
   "source": [
    "## 머신러닝 실습\n",
    "- 로지스틱 회귀 개념\n",
    "1. 선형회귀로 구할 수 없는 분류에 사용하는 기법\n",
    "2. S자 함수 사용 (참or거짓) 분류\n",
    "- 로지스틱 회귀\n",
    "\n",
    "![로지스틱회귀](https://github.com/king-dong-gun/python_bigdata_analyze/assets/160683545/ca2645ad-f246-4073-a5db-12b9919f9ce3)\n",
    "\n",
    "##### 시그모이드(sigmoid : S자형) 함수\n",
    "$$\n",
    "y = \\frac{1}{1 + e^{ax + b}}\n",
    "$$\n",
    "\n",
    "##### 로지스틱회귀 모델의 성능평가 지표\n",
    "1. 선형회귀 >> MSE(평균제곱오류), RMSE(평균제곱의 제곱근 오류), R^2 score(분산비율)\n",
    "2. 로지스틱회귀 >> 오차행렬에 기반한 정밀도, 재현유르 F1스코어, ROC_AUC 스코어\n",
    "\n",
    "##### 오차행렬\n",
    "![오차행렬](https://github.com/king-dong-gun/python_bigdata_analyze/assets/160683545/a141c979-9f3d-4f76-8553-2934144dd4c9)\n",
    "1. **정확도** >> 전체 데이터에서 정확하게 예측한 TN, TP 전체 데이터로 나눈 값, `confusion_matrix` 함수 사용\n",
    "\n",
    "    $$정확도 = \\frac {예측결과와 실제값이 동일한 건수} {전체 데이터수} = \\frac {(TN+FP+FN+TP)} {(TN+TP)}\n",
    "\n",
    "\n",
    "2. **정밀도** >> 예측이 Positive값에서 참인 것(TP)의 비율, `precision_score` 함수 사용\n",
    "$$\n",
    "정밀도 = \\frac {TP}{(FP+TP)}\n",
    "$$\n",
    "3. **재현율** >> 실제값이 Positive인 것중에서 참인 것(TP)의 비율, `recall_score` 함수 사용\n",
    "$$\n",
    "재현율 = \\frac {TP}{(FN+TP)}\n",
    "$$\n",
    "4. **F1 score** >> 정밀도 + 재현율을 결합한 평가지표, `f1_score` 함수 사용\n",
    "$$\n",
    "F1 score = \\frac {2}{\\frac {1} {재현율} + \\frac {1}{정밀도}} = 2 \\times \\frac {정밀도 \\times 재현율} {정밀도 + 재현율}\n",
    "$$\n",
    "    \n",
    "5. **ROC(수신자 운영 곡선)기반 AUC(곡선 아래 영역) score**\n",
    "    - FPR >> 실제 negative 데이터를 positive로 거짓을 예측한 비율, `roc_auc_score` 함수 사용\n",
    "    - TPR >>실제 positive 데이터를 참으로 예측한 비율(재현율), `roc_auc_score` 함수 사용\n",
    "    $$\n",
    "    FPR = \\frac {FP}{(FP + TN)}\n",
    "    $$\n",
    "\n",
    "\n",
    "### 유방암 진단 로지스틱 회귀분석\n",
    "\n",
    "#### 데이터 수집\n",
    "\n",
    "##### Scikit-Learn 내장 데이터"
   ]
  },
  {
   "cell_type": "code",
   "execution_count": null,
   "metadata": {},
   "outputs": [],
   "source": []
  }
 ],
 "metadata": {
  "language_info": {
   "name": "python"
  }
 },
 "nbformat": 4,
 "nbformat_minor": 2
}
